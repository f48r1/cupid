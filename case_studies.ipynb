{
 "cells": [
  {
   "cell_type": "code",
   "execution_count": 1,
   "metadata": {},
   "outputs": [
    {
     "name": "stderr",
     "output_type": "stream",
     "text": [
      "/home/tox/cupid/pyenv_cupido/lib/python3.12/site-packages/tqdm/auto.py:21: TqdmWarning: IProgress not found. Please update jupyter and ipywidgets. See https://ipywidgets.readthedocs.io/en/stable/user_install.html\n",
      "  from .autonotebook import tqdm as notebook_tqdm\n"
     ]
    }
   ],
   "source": [
    "from src.waterfall_plot import waterfall, MapSHAP\n",
    "from matplotlib import pyplot as plt\n",
    "from src.cupido import Cupido, load_csfp\n",
    "from rdkit import Chem"
   ]
  },
  {
   "cell_type": "code",
   "execution_count": 2,
   "metadata": {},
   "outputs": [],
   "source": [
    "from compchemkit import fingerprints\n",
    "import numpy as np\n",
    "import pandas as pd\n",
    "import os\n",
    "\n",
    "CSFP = load_csfp()\n",
    "\n",
    "def smi2array(smi):\n",
    "    array = CSFP.transform_smiles([smi])\n",
    "    array=pd.DataFrame.sparse.from_spmatrix(array).values\n",
    "    return array"
   ]
  },
  {
   "cell_type": "markdown",
   "metadata": {},
   "source": [
    "## Load Objects"
   ]
  },
  {
   "cell_type": "code",
   "execution_count": 3,
   "metadata": {},
   "outputs": [],
   "source": [
    "CUPIDOs = {\n",
    "    'cav':Cupido('cav', cls_name='XGB'),\n",
    "    'nav':Cupido('nav', cls_name='RF'),\n",
    "    'erg':Cupido('erg', cls_name='RF'),\n",
    "}"
   ]
  },
  {
   "cell_type": "markdown",
   "metadata": {},
   "source": [
    "# Cycle for Smiles"
   ]
  },
  {
   "cell_type": "code",
   "execution_count": 4,
   "metadata": {},
   "outputs": [],
   "source": [
    "case_studies = {\n",
    "    'astemizolo':'COc1ccc(CCN2CCC(Nc3nc4ccccc4n3Cc3ccc(F)cc3)CC2)cc1',\n",
    "    'clomipramina':'CN(C)CCCN1C2=CC=CC=C2CCC3=C1C=C(C=C3)Cl',\n",
    "    'atorvastatina':'CC(C)C1=C(C(=C(N1CC[C@H](C[C@H](CC(=O)O)O)O)C2=CC=C(C=C2)F)C3=CC=CC=C3)C(=O)NC4=CC=CC=C4',\n",
    "    \n",
    "}"
   ]
  },
  {
   "cell_type": "code",
   "execution_count": 5,
   "metadata": {},
   "outputs": [
    {
     "name": "stdout",
     "output_type": "stream",
     "text": [
      "astemizolo\n",
      "cav\n",
      "prediction: 1\n",
      "score: 0.872071870186417\n",
      "nav\n",
      "prediction: 0\n",
      "score: 0.49\n",
      "erg\n",
      "prediction: 1\n",
      "score: 0.97\n",
      "clomipramina\n",
      "cav\n",
      "prediction: 1\n",
      "score: 0.5939675532863243\n",
      "nav\n",
      "prediction: 1\n",
      "score: 0.65\n",
      "erg\n",
      "prediction: 1\n",
      "score: 0.94\n",
      "atorvastatina\n",
      "cav\n",
      "prediction: 1\n",
      "score: 0.5232139805679067\n",
      "nav\n",
      "prediction: 0\n",
      "score: 0.27\n",
      "erg\n",
      "prediction: 0\n",
      "score: 0.265\n"
     ]
    }
   ],
   "source": [
    "for smi_name, smi in case_studies.items():\n",
    "    print(smi_name)\n",
    "    for dataset,cupido in CUPIDOs.items():\n",
    "        print(dataset)\n",
    "\n",
    "        array = smi2array(smi)\n",
    "        shap_values = cupido.compute_shap_values(array)\n",
    "\n",
    "        score = cupido.predict_proba(array)[0,1]\n",
    "        pred = cupido.predict(array)[0]\n",
    "        fig_map = MapSHAP(smi, array, shap_values, FP=CSFP)\n",
    "        fig_waterfall = waterfall(shap_values, show=False, features_imgPath=\"imgSMARTS\", colorNeg='green', colorPos=\"red\",\n",
    "                                #    max_display=30\n",
    "                                  )\n",
    "        plt.close(fig_waterfall)\n",
    "\n",
    "        reliability = cupido.reliability(score)\n",
    "\n",
    "        fig_ad = cupido.reliability_fig(score, reliability)\n",
    "        plt.close(fig_ad)\n",
    "\n",
    "        fig_map.save(f'case_studies/{smi_name}_{dataset}_map.png')\n",
    "        fig_waterfall.savefig(f'case_studies/{smi_name}_{dataset}_waterfall.png', bbox_inches='tight')\n",
    "        fig_ad.savefig(f'case_studies/{smi_name}_{dataset}_ad.png', bbox_inches='tight')\n",
    "\n",
    "        print('prediction:',pred)\n",
    "        print('score:',score)"
   ]
  },
  {
   "cell_type": "markdown",
   "metadata": {},
   "source": [
    "# Figures for Manuscript"
   ]
  },
  {
   "cell_type": "code",
   "execution_count": 7,
   "metadata": {},
   "outputs": [],
   "source": [
    "from matplotlib import pyplot as plt"
   ]
  },
  {
   "cell_type": "code",
   "execution_count": 35,
   "metadata": {},
   "outputs": [],
   "source": [
    "\n",
    "for smi_name in case_studies.keys():\n",
    "    \n",
    "    fig, axes = plt.subplots(ncols=3, nrows=3, figsize=(20,15),gridspec_kw={'wspace':-.4})\n",
    "\n",
    "    for dataset, axes_row in zip(CUPIDOs.keys(),axes):\n",
    "\n",
    "        for ax,element_name in zip(axes_row, ['waterfall','map','ad']):\n",
    "            ax.imshow(plt.imread(f'case_studies/{smi_name}_{dataset}_{element_name}.png'))\n",
    "            ax.axis('off')\n",
    "\n",
    "    fig.savefig(f'case_studies/{smi_name}_full.png',bbox_inches='tight')"
   ]
  }
 ],
 "metadata": {
  "kernelspec": {
   "display_name": "pyenv_cupido",
   "language": "python",
   "name": "python3"
  },
  "language_info": {
   "codemirror_mode": {
    "name": "ipython",
    "version": 3
   },
   "file_extension": ".py",
   "mimetype": "text/x-python",
   "name": "python",
   "nbconvert_exporter": "python",
   "pygments_lexer": "ipython3",
   "version": "3.12.6"
  }
 },
 "nbformat": 4,
 "nbformat_minor": 2
}
